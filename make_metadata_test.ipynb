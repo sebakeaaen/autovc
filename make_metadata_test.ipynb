{
 "cells": [
  {
   "cell_type": "code",
   "execution_count": null,
   "id": "80cc0f22",
   "metadata": {},
   "outputs": [],
   "source": [
    "import pickle\n",
    "import numpy as np\n",
    "import os"
   ]
  },
  {
   "cell_type": "code",
   "execution_count": null,
   "id": "af705e6e",
   "metadata": {},
   "outputs": [],
   "source": [
    "with open(r\"spmel\\train.pkl\", \"rb\") as file:\n",
    "    train = pickle.load(file)"
   ]
  },
  {
   "cell_type": "code",
   "execution_count": null,
   "id": "acd4c077",
   "metadata": {},
   "outputs": [],
   "source": [
    "train_cpy = train\n",
    "for subject in train_cpy:\n",
    "    for i, np_file in enumerate(subject[2:]):\n",
    "        i=i+2\n",
    "        subject[i] = np.load('spmel\\\\'+np_file)\n",
    "        "
   ]
  },
  {
   "cell_type": "code",
   "execution_count": null,
   "id": "38dbb1f0",
   "metadata": {},
   "outputs": [],
   "source": [
    "with open(os.path.join('.', 'metadata.pkl'), 'wb') as handle:\n",
    "    pickle.dump(train_cpy, handle)"
   ]
  }
 ],
 "metadata": {
  "kernelspec": {
   "display_name": "Python 3 (ipykernel)",
   "language": "python",
   "name": "python3"
  },
  "language_info": {
   "codemirror_mode": {
    "name": "ipython",
    "version": 3
   },
   "file_extension": ".py",
   "mimetype": "text/x-python",
   "name": "python",
   "nbconvert_exporter": "python",
   "pygments_lexer": "ipython3",
   "version": "3.7.4"
  }
 },
 "nbformat": 4,
 "nbformat_minor": 5
}
