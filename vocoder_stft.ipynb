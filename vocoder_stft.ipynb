{
 "cells": [
  {
   "cell_type": "code",
   "execution_count": null,
   "metadata": {},
   "outputs": [],
   "source": [
    "import torch\n",
    "import soundfile as sf\n",
    "import pickle\n",
    "from synthesis import build_model\n",
    "from synthesis import wavegen\n",
    "import librosa\n",
    "\n",
    "pre_trained = True # OBS! change in conversion.ipynb, vocoder.ipynb and make_metadata.py\n",
    "\n",
    "spect_vc = pickle.load(open('results.pkl', 'rb'))\n",
    "\n",
    "for spect in spect_vc: # use [24:] to exclude p001, p002 and p003\n",
    "    name = spect[0]\n",
    "    c = spect[1]\n",
    "    print(name)\n",
    "    waveform = librosa.griffinlim(c) \n",
    "    sf.write(name+'.wav', waveform, 16000*2)"
   ]
  },
  {
   "cell_type": "code",
   "execution_count": 8,
   "metadata": {},
   "outputs": [],
   "source": [
    "from model_vc import Generator\n",
    "import torch\n",
    "\n",
    "model = Generator(32,256,512,32)\n",
    "ckt = torch.load('autovc.ckpt', map_location = 'cpu')\n",
    "model.load_state_dict(ckt['model'])\n",
    "model.postnet = torch.nn.ModuleList()"
   ]
  },
  {
   "cell_type": "code",
   "execution_count": 9,
   "metadata": {},
   "outputs": [
    {
     "data": {
      "text/plain": [
       "ModuleList()"
      ]
     },
     "execution_count": 9,
     "metadata": {},
     "output_type": "execute_result"
    }
   ],
   "source": [
    "model.postnet"
   ]
  },
  {
   "cell_type": "code",
   "execution_count": null,
   "metadata": {},
   "outputs": [],
   "source": []
  }
 ],
 "metadata": {
  "interpreter": {
   "hash": "731f7d7f43d505f1d42c90921030d5a5a92f0b2ecd75e5b1b45abf77642a0a7d"
  },
  "kernelspec": {
   "display_name": "Python 3.9.7 64-bit ('base': conda)",
   "language": "python",
   "name": "python3"
  },
  "language_info": {
   "codemirror_mode": {
    "name": "ipython",
    "version": 3
   },
   "file_extension": ".py",
   "mimetype": "text/x-python",
   "name": "python",
   "nbconvert_exporter": "python",
   "pygments_lexer": "ipython3",
   "version": "3.9.7"
  },
  "orig_nbformat": 4
 },
 "nbformat": 4,
 "nbformat_minor": 2
}
