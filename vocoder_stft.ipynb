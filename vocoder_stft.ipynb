{
 "cells": [
  {
   "cell_type": "code",
   "execution_count": null,
   "metadata": {},
   "outputs": [],
   "source": [
    "import torch\n",
    "import soundfile as sf\n",
    "import pickle\n",
    "from synthesis import build_model\n",
    "from synthesis import wavegen\n",
    "import librosa\n",
    "\n",
    "pre_trained = True # OBS! change in conversion.ipynb, vocoder.ipynb and make_metadata.py\n",
    "\n",
    "spect_vc = pickle.load(open('results.pkl', 'rb'))\n",
    "\n",
    "for spect in spect_vc: # use [24:] to exclude p001, p002 and p003\n",
    "    name = spect[0]\n",
    "    c = spect[1]\n",
    "    print(name)\n",
    "    waveform = librosa.griffinlim(c) \n",
    "    sf.write(name+'.wav', waveform, 16000*2)"
   ]
  }
 ],
 "metadata": {
  "language_info": {
   "name": "python"
  },
  "orig_nbformat": 4
 },
 "nbformat": 4,
 "nbformat_minor": 2
}
