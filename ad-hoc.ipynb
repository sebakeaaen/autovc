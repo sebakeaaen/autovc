{
 "cells": [
  {
   "cell_type": "code",
   "execution_count": 1,
   "metadata": {},
   "outputs": [],
   "source": [
    "import numpy as np\n",
    "import pandas as pd\n",
    "import pickle"
   ]
  },
  {
   "cell_type": "code",
   "execution_count": null,
   "metadata": {},
   "outputs": [],
   "source": [
    "test = np.load('/work3/dgro/VCTK-Corpus-0/wav/p226/p226_001_mic2.npy')"
   ]
  },
  {
   "cell_type": "code",
   "execution_count": null,
   "metadata": {},
   "outputs": [],
   "source": [
    "test.shape"
   ]
  },
  {
   "cell_type": "code",
   "execution_count": null,
   "metadata": {},
   "outputs": [],
   "source": [
    "with open('/work3/dgro/VCTK-Corpus-0/wav/metadata.pkl', 'rb') as pickle_file:\n",
    "    metadata = pickle.load(pickle_file)\n"
   ]
  },
  {
   "cell_type": "code",
   "execution_count": null,
   "metadata": {},
   "outputs": [],
   "source": [
    "metadata[0]"
   ]
  },
  {
   "cell_type": "code",
   "execution_count": null,
   "metadata": {},
   "outputs": [],
   "source": [
    "with open('/work3/dgro/VCTK-Corpus-0/wav/train.pkl', 'rb') as pickle_file:\n",
    "    train = pickle.load(pickle_file)\n"
   ]
  },
  {
   "cell_type": "code",
   "execution_count": null,
   "metadata": {},
   "outputs": [],
   "source": [
    "train[0][2:]"
   ]
  },
  {
   "cell_type": "code",
   "execution_count": 4,
   "metadata": {},
   "outputs": [],
   "source": [
    "speaker_info = pd.read_csv(\"speaker_info.txt\", delim_whitespace=True)"
   ]
  },
  {
   "cell_type": "code",
   "execution_count": 7,
   "metadata": {},
   "outputs": [
    {
     "data": {
      "text/html": [
       "<div>\n",
       "<style scoped>\n",
       "    .dataframe tbody tr th:only-of-type {\n",
       "        vertical-align: middle;\n",
       "    }\n",
       "\n",
       "    .dataframe tbody tr th {\n",
       "        vertical-align: top;\n",
       "    }\n",
       "\n",
       "    .dataframe thead th {\n",
       "        text-align: right;\n",
       "    }\n",
       "</style>\n",
       "<table border=\"1\" class=\"dataframe\">\n",
       "  <thead>\n",
       "    <tr style=\"text-align: right;\">\n",
       "      <th></th>\n",
       "      <th>ID</th>\n",
       "      <th>AGE</th>\n",
       "      <th>GENDER</th>\n",
       "      <th>ACCENTS</th>\n",
       "      <th>REGION</th>\n",
       "      <th>COMMENTS</th>\n",
       "    </tr>\n",
       "  </thead>\n",
       "  <tbody>\n",
       "    <tr>\n",
       "      <th>0</th>\n",
       "      <td>p001</td>\n",
       "      <td>24</td>\n",
       "      <td>F</td>\n",
       "      <td>Danish</td>\n",
       "      <td>Denmark</td>\n",
       "      <td>Ditte</td>\n",
       "    </tr>\n",
       "    <tr>\n",
       "      <th>1</th>\n",
       "      <td>p002</td>\n",
       "      <td>24</td>\n",
       "      <td>F</td>\n",
       "      <td>Danish</td>\n",
       "      <td>Denmark</td>\n",
       "      <td>Nina</td>\n",
       "    </tr>\n",
       "    <tr>\n",
       "      <th>2</th>\n",
       "      <td>p003</td>\n",
       "      <td>27</td>\n",
       "      <td>M</td>\n",
       "      <td>American</td>\n",
       "      <td>Denmark</td>\n",
       "      <td>Sebastian</td>\n",
       "    </tr>\n",
       "    <tr>\n",
       "      <th>3</th>\n",
       "      <td>p225</td>\n",
       "      <td>23</td>\n",
       "      <td>F</td>\n",
       "      <td>English</td>\n",
       "      <td>Southern_England</td>\n",
       "      <td>NaN</td>\n",
       "    </tr>\n",
       "    <tr>\n",
       "      <th>4</th>\n",
       "      <td>p226</td>\n",
       "      <td>22</td>\n",
       "      <td>M</td>\n",
       "      <td>English</td>\n",
       "      <td>Surrey</td>\n",
       "      <td>NaN</td>\n",
       "    </tr>\n",
       "    <tr>\n",
       "      <th>...</th>\n",
       "      <td>...</td>\n",
       "      <td>...</td>\n",
       "      <td>...</td>\n",
       "      <td>...</td>\n",
       "      <td>...</td>\n",
       "      <td>...</td>\n",
       "    </tr>\n",
       "    <tr>\n",
       "      <th>108</th>\n",
       "      <td>p363</td>\n",
       "      <td>22</td>\n",
       "      <td>M</td>\n",
       "      <td>Canadian</td>\n",
       "      <td>Toronto</td>\n",
       "      <td>NaN</td>\n",
       "    </tr>\n",
       "    <tr>\n",
       "      <th>109</th>\n",
       "      <td>p364</td>\n",
       "      <td>23</td>\n",
       "      <td>M</td>\n",
       "      <td>Irish</td>\n",
       "      <td>Donegal</td>\n",
       "      <td>NaN</td>\n",
       "    </tr>\n",
       "    <tr>\n",
       "      <th>110</th>\n",
       "      <td>p374</td>\n",
       "      <td>28</td>\n",
       "      <td>M</td>\n",
       "      <td>Australian</td>\n",
       "      <td>English</td>\n",
       "      <td>NaN</td>\n",
       "    </tr>\n",
       "    <tr>\n",
       "      <th>111</th>\n",
       "      <td>p376</td>\n",
       "      <td>22</td>\n",
       "      <td>M</td>\n",
       "      <td>Indian</td>\n",
       "      <td>NaN</td>\n",
       "      <td>NaN</td>\n",
       "    </tr>\n",
       "    <tr>\n",
       "      <th>112</th>\n",
       "      <td>s5</td>\n",
       "      <td>22</td>\n",
       "      <td>F</td>\n",
       "      <td>British</td>\n",
       "      <td>(new_speaker,more_data_would_be_released_for_t...</td>\n",
       "      <td>NaN</td>\n",
       "    </tr>\n",
       "  </tbody>\n",
       "</table>\n",
       "<p>113 rows × 6 columns</p>\n",
       "</div>"
      ],
      "text/plain": [
       "       ID  AGE GENDER     ACCENTS  \\\n",
       "0    p001   24      F      Danish   \n",
       "1    p002   24      F      Danish   \n",
       "2    p003   27      M    American   \n",
       "3    p225   23      F     English   \n",
       "4    p226   22      M     English   \n",
       "..    ...  ...    ...         ...   \n",
       "108  p363   22      M    Canadian   \n",
       "109  p364   23      M       Irish   \n",
       "110  p374   28      M  Australian   \n",
       "111  p376   22      M      Indian   \n",
       "112    s5   22      F     British   \n",
       "\n",
       "                                                REGION   COMMENTS  \n",
       "0                                              Denmark      Ditte  \n",
       "1                                              Denmark       Nina  \n",
       "2                                              Denmark  Sebastian  \n",
       "3                                     Southern_England        NaN  \n",
       "4                                               Surrey        NaN  \n",
       "..                                                 ...        ...  \n",
       "108                                            Toronto        NaN  \n",
       "109                                            Donegal        NaN  \n",
       "110                                            English        NaN  \n",
       "111                                                NaN        NaN  \n",
       "112  (new_speaker,more_data_would_be_released_for_t...        NaN  \n",
       "\n",
       "[113 rows x 6 columns]"
      ]
     },
     "execution_count": 7,
     "metadata": {},
     "output_type": "execute_result"
    }
   ],
   "source": [
    "speaker_info"
   ]
  },
  {
   "cell_type": "code",
   "execution_count": 9,
   "metadata": {},
   "outputs": [],
   "source": [
    "main_dir = '/work3/dgro/VCTK-Corpus-0/' "
   ]
  },
  {
   "cell_type": "code",
   "execution_count": 16,
   "metadata": {},
   "outputs": [],
   "source": [
    "subject_conversions = [(('p226','001'),('p226','001')), (('p226','003'),('p363','003'))]"
   ]
  },
  {
   "cell_type": "code",
   "execution_count": 35,
   "metadata": {},
   "outputs": [
    {
     "name": "stdout",
     "output_type": "stream",
     "text": [
      "########################################\n",
      "\n",
      "Converting from sentence no. 001 : \"Please call Stella.\"\n",
      "Uttered by the speaker:\n",
      "  ID  AGE GENDER ACCENTS REGION COMMENTS\n",
      "p226   22      M English Surrey      NaN\n",
      "\n",
      "Into sentence no. 001: \"Please call Stella.\"\n",
      "Uttered by the speaker:\n",
      "  ID  AGE GENDER ACCENTS REGION COMMENTS\n",
      "p226   22      M English Surrey      NaN\n",
      "\n",
      "\n",
      "########################################\n",
      "\n",
      "Converting from sentence no. 003 : \"Six spoons of fresh snow peas, five thick slabs of blue cheese, and maybe a snack for her brother Bob.\"\n",
      "Uttered by the speaker:\n",
      "  ID  AGE GENDER ACCENTS REGION COMMENTS\n",
      "p226   22      M English Surrey      NaN\n",
      "\n",
      "Into sentence no. 003: \"Six spoons of fresh snow peas, five thick slabs of blue cheese, and maybe a snack for her brother Bob.\"\n",
      "Uttered by the speaker:\n",
      "  ID  AGE GENDER  ACCENTS  REGION COMMENTS\n",
      "p363   22      M Canadian Toronto      NaN\n",
      "\n",
      "\n"
     ]
    }
   ],
   "source": [
    "for conversion in subject_conversions:\n",
    "    print('#'*40+'\\n')\n",
    "    with open(os.path.join(main_dir,'txt',conversion[0][0],conversion[0][0] + '_' + conversion[0][1]+'.txt',), 'r') as sentence_file:\n",
    "        sentence = \"\\\"\" + sentence_file.readline().rstrip('\\n').rstrip() + \"\\\"\"\n",
    "        print(f'Converting from sentence no. {conversion[0][1]} : {sentence}')\n",
    "        \n",
    "    print('Uttered by the speaker:')\n",
    "    print(speaker_info[speaker_info['ID']==conversion[0][0]].to_string(index=False))\n",
    "    print('')\n",
    "\n",
    "    with open(os.path.join(main_dir,'txt',conversion[1][0],conversion[1][0] + '_' + conversion[1][1]+'.txt',), 'r') as sentence_file:\n",
    "        sentence = \"\\\"\" + sentence_file.readline().rstrip('\\n').rstrip() + \"\\\"\"\n",
    "        print(f'Into sentence no. {conversion[1][1]}: {sentence}')\n",
    "\n",
    "    print('Uttered by the speaker:')\n",
    "    print(speaker_info[speaker_info['ID']==conversion[1][0]].to_string(index=False))\n",
    "    print('\\n')"
   ]
  }
 ],
 "metadata": {
  "interpreter": {
   "hash": "13c43f1058572796e5d13e4c4adb59349ce29068b5acc5b9cd77545a3e6ece26"
  },
  "kernelspec": {
   "display_name": "Python 3.9.7 ('py39': conda)",
   "language": "python",
   "name": "python3"
  },
  "language_info": {
   "codemirror_mode": {
    "name": "ipython",
    "version": 3
   },
   "file_extension": ".py",
   "mimetype": "text/x-python",
   "name": "python",
   "nbconvert_exporter": "python",
   "pygments_lexer": "ipython3",
   "version": "3.9.7"
  },
  "orig_nbformat": 4
 },
 "nbformat": 4,
 "nbformat_minor": 2
}
