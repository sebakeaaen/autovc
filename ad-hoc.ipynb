{
 "cells": [
  {
   "cell_type": "code",
   "execution_count": 1,
   "metadata": {},
   "outputs": [],
   "source": [
    "import numpy as np\n",
    "import pandas as pd\n",
    "import pickle"
   ]
  },
  {
   "cell_type": "code",
   "execution_count": null,
   "metadata": {},
   "outputs": [],
   "source": [
    "test = np.load('/work3/dgro/VCTK-Corpus-0/wav/p226/p226_001_mic2.npy')"
   ]
  },
  {
   "cell_type": "code",
   "execution_count": null,
   "metadata": {},
   "outputs": [],
   "source": [
    "test.shape"
   ]
  },
  {
   "cell_type": "code",
   "execution_count": null,
   "metadata": {},
   "outputs": [],
   "source": [
    "with open('/work3/dgro/VCTK-Corpus-0/spmel/metadata.pkl', 'rb') as pickle_file:\n",
    "    metadata2 = pickle.load(pickle_file)\n"
   ]
  },
  {
   "cell_type": "code",
   "execution_count": 52,
   "metadata": {},
   "outputs": [],
   "source": [
    "with open('/zhome/08/b/98186/advanced-ml/autovc/metadata.pkl', 'rb') as pickle_file:\n",
    "    metadata_or = pickle.load(pickle_file)\n"
   ]
  },
  {
   "cell_type": "code",
   "execution_count": 51,
   "metadata": {},
   "outputs": [
    {
     "data": {
      "text/plain": [
       "['p226_003',\n",
       " array([ 1.05135692e-02,  3.85323726e-03,  1.57366842e-02,  5.60515635e-02,\n",
       "        -1.86304003e-02, -6.83421269e-02, -4.23787907e-02, -2.17832066e-02,\n",
       "         5.67807779e-02, -2.49021240e-02, -7.30395839e-02, -5.13435900e-02,\n",
       "        -1.74393933e-02,  4.15934622e-02,  3.20002027e-02,  8.19946174e-03,\n",
       "         9.50321406e-02, -5.01372330e-02, -1.39760505e-02,  7.46293226e-03,\n",
       "         3.00846454e-02,  5.40642021e-03, -4.65370789e-02,  1.13145430e-02,\n",
       "         4.31177579e-02, -1.89061128e-02, -4.94011154e-04,  3.61186787e-02,\n",
       "         1.02010816e-02,  4.14571725e-02,  4.14694613e-03, -5.56670129e-02,\n",
       "        -2.06009783e-02,  3.87470536e-02,  2.26299874e-02,  4.99083996e-02,\n",
       "         1.79066621e-02,  2.72260271e-02, -1.64318047e-02, -3.81017709e-03,\n",
       "         3.64075378e-02, -9.42550376e-02, -2.93804239e-03, -3.24467500e-03,\n",
       "        -6.93357959e-02, -9.30275116e-03, -2.88570318e-02,  6.06440082e-02,\n",
       "        -3.56901693e-03, -3.92163321e-02,  2.70334240e-02,  2.15113610e-02,\n",
       "         2.74316911e-02, -4.65783402e-02,  9.81454402e-02, -9.01070535e-02,\n",
       "        -3.26769426e-02, -1.79369226e-02,  2.22942829e-02,  5.36711589e-02,\n",
       "         6.80523664e-02, -1.01726711e-01, -1.40386224e-02,  7.49983415e-02,\n",
       "        -8.54860768e-02,  6.59198612e-02,  6.83658645e-02,  1.57601722e-02,\n",
       "        -3.31611671e-02,  5.50657511e-02, -1.06727347e-01,  6.80310875e-02,\n",
       "        -1.90295782e-02,  1.77969597e-02, -1.10500656e-01, -3.19733433e-02,\n",
       "        -6.42190687e-04,  7.49742538e-02,  5.25504425e-02,  2.33024340e-02,\n",
       "        -5.66393137e-03,  4.36655320e-02, -3.54889557e-02,  3.25342193e-02,\n",
       "         6.76250234e-02,  6.57848716e-02, -8.12413916e-03, -4.86655906e-02,\n",
       "         1.13232504e-03,  1.46717593e-01, -1.05740383e-01,  2.36797915e-03,\n",
       "        -4.70260978e-02, -3.45798209e-04,  3.27194184e-02,  1.48397889e-02,\n",
       "        -9.59420111e-03,  2.72966269e-02,  2.33379286e-03, -5.76225147e-02,\n",
       "        -3.97484601e-02,  1.46938618e-02,  5.09893894e-02, -6.44793957e-02,\n",
       "         8.12184736e-02, -4.34126854e-02,  6.38156608e-02, -8.04112554e-02,\n",
       "         5.10460325e-02,  2.46777814e-02, -4.72603478e-02,  1.03799999e-01,\n",
       "        -4.95241359e-02,  6.87002670e-03,  9.43470187e-03,  5.83948102e-03,\n",
       "         1.24956071e-01,  3.42975818e-02,  1.91981681e-02, -5.94696701e-02,\n",
       "         2.10515205e-02, -6.08585998e-02, -2.04868261e-02,  6.89000860e-02,\n",
       "        -2.77117151e-03, -1.82861313e-02, -6.06365800e-02, -1.24619137e-02,\n",
       "        -5.38675301e-02,  1.62985235e-01,  6.48390874e-02,  2.63780244e-02,\n",
       "        -3.85197923e-02,  1.66660156e-02, -2.84581389e-02, -2.02571861e-02,\n",
       "         2.83366796e-02,  3.56502607e-02, -6.32615248e-03,  1.05928285e-02,\n",
       "        -3.40223536e-02, -1.08241655e-01,  6.89545721e-02, -1.58062167e-02,\n",
       "         2.10157484e-02,  2.07125619e-02,  4.58798930e-02, -4.34380304e-03,\n",
       "         6.80084676e-02,  3.10476627e-02,  4.63036727e-03,  6.99648112e-02,\n",
       "        -7.89797306e-03,  2.40015630e-02,  1.38534594e-03,  2.29663365e-02,\n",
       "         4.71022613e-02,  4.94624637e-02,  3.57012078e-02,  2.89489683e-02,\n",
       "        -1.90170798e-02, -3.59963924e-02,  1.13418184e-01, -3.54056433e-02,\n",
       "         1.82174221e-02,  1.33566288e-02,  3.84478946e-03, -3.90403345e-02,\n",
       "         1.27239779e-01, -4.10804935e-02, -1.87817477e-02,  1.12700976e-01,\n",
       "        -1.17128745e-01, -5.40607348e-02,  6.26192987e-02, -7.21988678e-02,\n",
       "         5.41373417e-02,  1.76243484e-03, -4.45886217e-02,  2.57590115e-02,\n",
       "        -4.50248271e-02,  2.16441210e-02, -4.50382009e-02,  1.59995258e-02,\n",
       "        -1.17333569e-01,  4.42185476e-02, -7.71497795e-03,  1.25515074e-01,\n",
       "        -2.09375583e-02, -6.83619231e-02, -1.40871275e-02,  4.44406681e-02,\n",
       "        -1.09566394e-02, -6.96281120e-02, -1.95202567e-02, -3.49658541e-02,\n",
       "         6.91388100e-02, -7.49785230e-02,  5.65426871e-02,  4.30068467e-03,\n",
       "        -1.68714263e-02,  1.06293159e-02, -8.60325433e-03, -1.58161037e-02,\n",
       "        -4.93383072e-02,  5.53640127e-02, -6.20101206e-02, -6.30016774e-02,\n",
       "        -2.31995843e-02,  7.60183930e-02,  1.54472692e-02, -1.55671956e-02,\n",
       "        -9.72115695e-02, -1.42737821e-01, -6.31600767e-02,  5.00768498e-02,\n",
       "         3.19125280e-02,  1.82693005e-02,  1.00665674e-01,  9.57534537e-02,\n",
       "         5.42757623e-02, -7.67167694e-06,  6.63836375e-02, -1.01853117e-01,\n",
       "        -3.97267286e-03, -5.11716977e-02,  4.73995507e-02,  8.31715912e-02,\n",
       "         3.84143442e-02, -2.01399215e-02,  2.74643060e-02, -6.50218651e-02,\n",
       "         1.97595917e-02,  8.47467929e-02,  2.26804710e-04,  1.63874533e-02,\n",
       "         3.49319167e-02, -5.49334101e-02, -1.47683336e-03, -6.02802709e-02,\n",
       "         3.35070305e-02,  4.25238833e-02,  7.48047605e-04, -9.93425995e-02,\n",
       "         1.76234674e-02, -1.00327149e-01, -1.56389717e-02,  5.09398766e-02,\n",
       "         4.80965599e-02,  4.59552929e-02, -6.80827498e-02, -9.01483744e-02,\n",
       "        -2.81956494e-02,  6.00363407e-03, -3.93236801e-02,  3.60677689e-02],\n",
       "       dtype=float32),\n",
       " [array([[2.3408961e-01, 1.8425955e-01, 9.8822489e-02, ..., 0.0000000e+00,\n",
       "          0.0000000e+00, 0.0000000e+00],\n",
       "         [2.2685570e-01, 1.8851987e-01, 1.6775769e-01, ..., 2.3449016e-04,\n",
       "          0.0000000e+00, 0.0000000e+00],\n",
       "         [1.7495371e-01, 1.4760365e-01, 1.8024850e-01, ..., 0.0000000e+00,\n",
       "          0.0000000e+00, 0.0000000e+00],\n",
       "         ...,\n",
       "         [3.9643010e-01, 2.6942706e-01, 2.2368398e-01, ..., 0.0000000e+00,\n",
       "          0.0000000e+00, 0.0000000e+00],\n",
       "         [3.6391440e-01, 1.7909431e-01, 1.6070952e-01, ..., 0.0000000e+00,\n",
       "          0.0000000e+00, 0.0000000e+00],\n",
       "         [2.8270081e-01, 1.9680832e-01, 1.6415624e-01, ..., 2.9602489e-02,\n",
       "          3.6466870e-02, 6.5015361e-02]], dtype=float32)]]"
      ]
     },
     "execution_count": 51,
     "metadata": {},
     "output_type": "execute_result"
    }
   ],
   "source": [
    "metadata[1][1]"
   ]
  },
  {
   "cell_type": "code",
   "execution_count": 5,
   "metadata": {},
   "outputs": [],
   "source": [
    "\n",
    "with open('/zhome/08/b/98186/advanced-ml/autovc/results.pkl', 'rb') as pickle_file:\n",
    "    results = pickle.load(pickle_file)"
   ]
  },
  {
   "cell_type": "code",
   "execution_count": 8,
   "metadata": {},
   "outputs": [
    {
     "data": {
      "text/plain": [
       "49"
      ]
     },
     "execution_count": 8,
     "metadata": {},
     "output_type": "execute_result"
    }
   ],
   "source": [
    "len(results)"
   ]
  },
  {
   "cell_type": "code",
   "execution_count": 2,
   "metadata": {},
   "outputs": [],
   "source": [
    "with open('/work3/dgro/VCTK-Corpus-0/wav/train.pkl', 'rb') as pickle_file:\n",
    "    train = pickle.load(pickle_file)\n"
   ]
  },
  {
   "cell_type": "code",
   "execution_count": 14,
   "metadata": {},
   "outputs": [
    {
     "data": {
      "text/plain": [
       "'p001'"
      ]
     },
     "execution_count": 14,
     "metadata": {},
     "output_type": "execute_result"
    }
   ],
   "source": [
    "train[0][0]"
   ]
  },
  {
   "cell_type": "code",
   "execution_count": 18,
   "metadata": {},
   "outputs": [],
   "source": [
    "train\n",
    "\n",
    "subject_speaker_embedding = {}\n",
    "for embed in train:\n",
    "    subject_speaker_embedding[embed[0]] = embed[1]"
   ]
  },
  {
   "cell_type": "code",
   "execution_count": 17,
   "metadata": {},
   "outputs": [
    {
     "data": {
      "text/plain": [
       "(256,)"
      ]
     },
     "execution_count": 17,
     "metadata": {},
     "output_type": "execute_result"
    }
   ],
   "source": [
    "train_dict['p001'].shape"
   ]
  },
  {
   "cell_type": "code",
   "execution_count": 4,
   "metadata": {},
   "outputs": [],
   "source": [
    "speaker_info = pd.read_csv(\"speaker_info.txt\", delim_whitespace=True)"
   ]
  },
  {
   "cell_type": "code",
   "execution_count": 7,
   "metadata": {},
   "outputs": [
    {
     "data": {
      "text/html": [
       "<div>\n",
       "<style scoped>\n",
       "    .dataframe tbody tr th:only-of-type {\n",
       "        vertical-align: middle;\n",
       "    }\n",
       "\n",
       "    .dataframe tbody tr th {\n",
       "        vertical-align: top;\n",
       "    }\n",
       "\n",
       "    .dataframe thead th {\n",
       "        text-align: right;\n",
       "    }\n",
       "</style>\n",
       "<table border=\"1\" class=\"dataframe\">\n",
       "  <thead>\n",
       "    <tr style=\"text-align: right;\">\n",
       "      <th></th>\n",
       "      <th>ID</th>\n",
       "      <th>AGE</th>\n",
       "      <th>GENDER</th>\n",
       "      <th>ACCENTS</th>\n",
       "      <th>REGION</th>\n",
       "      <th>COMMENTS</th>\n",
       "    </tr>\n",
       "  </thead>\n",
       "  <tbody>\n",
       "    <tr>\n",
       "      <th>0</th>\n",
       "      <td>p001</td>\n",
       "      <td>24</td>\n",
       "      <td>F</td>\n",
       "      <td>Danish</td>\n",
       "      <td>Denmark</td>\n",
       "      <td>Ditte</td>\n",
       "    </tr>\n",
       "    <tr>\n",
       "      <th>1</th>\n",
       "      <td>p002</td>\n",
       "      <td>24</td>\n",
       "      <td>F</td>\n",
       "      <td>Danish</td>\n",
       "      <td>Denmark</td>\n",
       "      <td>Nina</td>\n",
       "    </tr>\n",
       "    <tr>\n",
       "      <th>2</th>\n",
       "      <td>p003</td>\n",
       "      <td>27</td>\n",
       "      <td>M</td>\n",
       "      <td>American</td>\n",
       "      <td>Denmark</td>\n",
       "      <td>Sebastian</td>\n",
       "    </tr>\n",
       "    <tr>\n",
       "      <th>3</th>\n",
       "      <td>p225</td>\n",
       "      <td>23</td>\n",
       "      <td>F</td>\n",
       "      <td>English</td>\n",
       "      <td>Southern_England</td>\n",
       "      <td>NaN</td>\n",
       "    </tr>\n",
       "    <tr>\n",
       "      <th>4</th>\n",
       "      <td>p226</td>\n",
       "      <td>22</td>\n",
       "      <td>M</td>\n",
       "      <td>English</td>\n",
       "      <td>Surrey</td>\n",
       "      <td>NaN</td>\n",
       "    </tr>\n",
       "    <tr>\n",
       "      <th>...</th>\n",
       "      <td>...</td>\n",
       "      <td>...</td>\n",
       "      <td>...</td>\n",
       "      <td>...</td>\n",
       "      <td>...</td>\n",
       "      <td>...</td>\n",
       "    </tr>\n",
       "    <tr>\n",
       "      <th>108</th>\n",
       "      <td>p363</td>\n",
       "      <td>22</td>\n",
       "      <td>M</td>\n",
       "      <td>Canadian</td>\n",
       "      <td>Toronto</td>\n",
       "      <td>NaN</td>\n",
       "    </tr>\n",
       "    <tr>\n",
       "      <th>109</th>\n",
       "      <td>p364</td>\n",
       "      <td>23</td>\n",
       "      <td>M</td>\n",
       "      <td>Irish</td>\n",
       "      <td>Donegal</td>\n",
       "      <td>NaN</td>\n",
       "    </tr>\n",
       "    <tr>\n",
       "      <th>110</th>\n",
       "      <td>p374</td>\n",
       "      <td>28</td>\n",
       "      <td>M</td>\n",
       "      <td>Australian</td>\n",
       "      <td>English</td>\n",
       "      <td>NaN</td>\n",
       "    </tr>\n",
       "    <tr>\n",
       "      <th>111</th>\n",
       "      <td>p376</td>\n",
       "      <td>22</td>\n",
       "      <td>M</td>\n",
       "      <td>Indian</td>\n",
       "      <td>NaN</td>\n",
       "      <td>NaN</td>\n",
       "    </tr>\n",
       "    <tr>\n",
       "      <th>112</th>\n",
       "      <td>s5</td>\n",
       "      <td>22</td>\n",
       "      <td>F</td>\n",
       "      <td>British</td>\n",
       "      <td>(new_speaker,more_data_would_be_released_for_t...</td>\n",
       "      <td>NaN</td>\n",
       "    </tr>\n",
       "  </tbody>\n",
       "</table>\n",
       "<p>113 rows × 6 columns</p>\n",
       "</div>"
      ],
      "text/plain": [
       "       ID  AGE GENDER     ACCENTS  \\\n",
       "0    p001   24      F      Danish   \n",
       "1    p002   24      F      Danish   \n",
       "2    p003   27      M    American   \n",
       "3    p225   23      F     English   \n",
       "4    p226   22      M     English   \n",
       "..    ...  ...    ...         ...   \n",
       "108  p363   22      M    Canadian   \n",
       "109  p364   23      M       Irish   \n",
       "110  p374   28      M  Australian   \n",
       "111  p376   22      M      Indian   \n",
       "112    s5   22      F     British   \n",
       "\n",
       "                                                REGION   COMMENTS  \n",
       "0                                              Denmark      Ditte  \n",
       "1                                              Denmark       Nina  \n",
       "2                                              Denmark  Sebastian  \n",
       "3                                     Southern_England        NaN  \n",
       "4                                               Surrey        NaN  \n",
       "..                                                 ...        ...  \n",
       "108                                            Toronto        NaN  \n",
       "109                                            Donegal        NaN  \n",
       "110                                            English        NaN  \n",
       "111                                                NaN        NaN  \n",
       "112  (new_speaker,more_data_would_be_released_for_t...        NaN  \n",
       "\n",
       "[113 rows x 6 columns]"
      ]
     },
     "execution_count": 7,
     "metadata": {},
     "output_type": "execute_result"
    }
   ],
   "source": [
    "speaker_info"
   ]
  },
  {
   "cell_type": "code",
   "execution_count": 9,
   "metadata": {},
   "outputs": [],
   "source": [
    "main_dir = '/work3/dgro/VCTK-Corpus-0/' "
   ]
  },
  {
   "cell_type": "code",
   "execution_count": 16,
   "metadata": {},
   "outputs": [],
   "source": [
    "subject_conversions = [(('p226','001'),('p226','001')), (('p226','003'),('p363','003'))]"
   ]
  },
  {
   "cell_type": "code",
   "execution_count": 35,
   "metadata": {},
   "outputs": [
    {
     "name": "stdout",
     "output_type": "stream",
     "text": [
      "########################################\n",
      "\n",
      "Converting from sentence no. 001 : \"Please call Stella.\"\n",
      "Uttered by the speaker:\n",
      "  ID  AGE GENDER ACCENTS REGION COMMENTS\n",
      "p226   22      M English Surrey      NaN\n",
      "\n",
      "Into sentence no. 001: \"Please call Stella.\"\n",
      "Uttered by the speaker:\n",
      "  ID  AGE GENDER ACCENTS REGION COMMENTS\n",
      "p226   22      M English Surrey      NaN\n",
      "\n",
      "\n",
      "########################################\n",
      "\n",
      "Converting from sentence no. 003 : \"Six spoons of fresh snow peas, five thick slabs of blue cheese, and maybe a snack for her brother Bob.\"\n",
      "Uttered by the speaker:\n",
      "  ID  AGE GENDER ACCENTS REGION COMMENTS\n",
      "p226   22      M English Surrey      NaN\n",
      "\n",
      "Into sentence no. 003: \"Six spoons of fresh snow peas, five thick slabs of blue cheese, and maybe a snack for her brother Bob.\"\n",
      "Uttered by the speaker:\n",
      "  ID  AGE GENDER  ACCENTS  REGION COMMENTS\n",
      "p363   22      M Canadian Toronto      NaN\n",
      "\n",
      "\n"
     ]
    }
   ],
   "source": [
    "for conversion in subject_conversions:\n",
    "    print('#'*40+'\\n')\n",
    "    with open(os.path.join(main_dir,'txt',conversion[0][0],conversion[0][0] + '_' + conversion[0][1]+'.txt',), 'r') as sentence_file:\n",
    "        sentence = \"\\\"\" + sentence_file.readline().rstrip('\\n').rstrip() + \"\\\"\"\n",
    "        print(f'Converting from sentence no. {conversion[0][1]} : {sentence}')\n",
    "        \n",
    "    print('Uttered by the speaker:')\n",
    "    print(speaker_info[speaker_info['ID']==conversion[0][0]].to_string(index=False))\n",
    "    print('')\n",
    "\n",
    "    with open(os.path.join(main_dir,'txt',conversion[1][0],conversion[1][0] + '_' + conversion[1][1]+'.txt',), 'r') as sentence_file:\n",
    "        sentence = \"\\\"\" + sentence_file.readline().rstrip('\\n').rstrip() + \"\\\"\"\n",
    "        print(f'Into sentence no. {conversion[1][1]}: {sentence}')\n",
    "\n",
    "    print('Uttered by the speaker:')\n",
    "    print(speaker_info[speaker_info['ID']==conversion[1][0]].to_string(index=False))\n",
    "    print('\\n')"
   ]
  }
 ],
 "metadata": {
  "interpreter": {
   "hash": "13c43f1058572796e5d13e4c4adb59349ce29068b5acc5b9cd77545a3e6ece26"
  },
  "kernelspec": {
   "display_name": "Python 3.9.7 ('py39': conda)",
   "language": "python",
   "name": "python3"
  },
  "language_info": {
   "codemirror_mode": {
    "name": "ipython",
    "version": 3
   },
   "file_extension": ".py",
   "mimetype": "text/x-python",
   "name": "python",
   "nbconvert_exporter": "python",
   "pygments_lexer": "ipython3",
   "version": "3.9.7"
  },
  "orig_nbformat": 4
 },
 "nbformat": 4,
 "nbformat_minor": 2
}
