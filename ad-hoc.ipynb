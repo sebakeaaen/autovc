{
 "cells": [
  {
   "cell_type": "code",
   "execution_count": 2,
   "metadata": {},
   "outputs": [],
   "source": [
    "import numpy as np\n",
    "import pandas as pd\n",
    "import pickle"
   ]
  },
  {
   "cell_type": "code",
   "execution_count": null,
   "metadata": {},
   "outputs": [],
   "source": [
    "test = np.load('/work3/dgro/VCTK-Corpus-0/wav/p226/p226_001_mic2.npy')"
   ]
  },
  {
   "cell_type": "code",
   "execution_count": null,
   "metadata": {},
   "outputs": [],
   "source": [
    "test.shape"
   ]
  },
  {
   "cell_type": "code",
   "execution_count": 4,
   "metadata": {},
   "outputs": [],
   "source": [
    "with open('/work3/dgro/VCTK-Corpus-0/spmel/metadata.pkl', 'rb') as pickle_file:\n",
    "    metadata2 = pickle.load(pickle_file)\n"
   ]
  },
  {
   "cell_type": "code",
   "execution_count": 3,
   "metadata": {},
   "outputs": [],
   "source": [
    "with open('/zhome/08/b/98186/advanced-ml/autovc/metadata.pkl', 'rb') as pickle_file:\n",
    "    metadata_or = pickle.load(pickle_file)\n"
   ]
  },
  {
   "cell_type": "code",
   "execution_count": 40,
   "metadata": {},
   "outputs": [
    {
     "name": "stdout",
     "output_type": "stream",
     "text": [
      "(129, 80)\n"
     ]
    },
    {
     "name": "stderr",
     "output_type": "stream",
     "text": [
      "/tmp/ipykernel_19434/82128318.py:5: FutureWarning: Pass sr=16000, n_fft=1024 as keyword args. From version 0.10 passing these as positional arguments will result in an error\n",
      "  mel_basis = mel(16000, 1024, fmin=90, fmax=7600, n_mels=80).T\n"
     ]
    },
    {
     "data": {
      "text/plain": [
       "0.60394454"
      ]
     },
     "execution_count": 40,
     "metadata": {},
     "output_type": "execute_result"
    }
   ],
   "source": [
    "import numpy as np\n",
    "from librosa.feature import melspectrogram\n",
    "from librosa.filters import mel\n",
    "\n",
    "mel_basis = mel(16000, 1024, fmin=90, fmax=7600, n_mels=80).T\n",
    "min_level = np.exp(-100 / 20 * np.log(10))\n",
    "\n",
    "D = np.load('/work3/dgro/VCTK-Corpus-0/stft/p225/p225_001_mic2.npy')\n",
    "D_mel = np.dot(D.T, mel_basis)\n",
    "D_db = 20 * np.log10(np.maximum(min_level, D_mel)) - 16\n",
    "S = np.clip((D_db + 100) / 100, 0, 1) \n",
    "print(S.shape)\n",
    "\n",
    "S.max()\n"
   ]
  },
  {
   "cell_type": "code",
   "execution_count": 29,
   "metadata": {},
   "outputs": [],
   "source": [
    "import os\n",
    "import pickle\n",
    "with open(os.path.join('/work3/dgro/VCTK-Corpus-0/stft/metadata.pkl'), 'rb') as file:\n",
    "            md = pickle.load(file)"
   ]
  },
  {
   "cell_type": "code",
   "execution_count": 34,
   "metadata": {},
   "outputs": [
    {
     "data": {
      "text/plain": [
       "['p002_020',\n",
       " array([-0.01350405,  0.00791144,  0.0090503 ,  0.00432177,  0.05557477,\n",
       "         0.02954319,  0.01079851,  0.06405142, -0.00274722,  0.02823362,\n",
       "         0.04448108,  0.05238215,  0.0525844 ,  0.00066349, -0.02211104,\n",
       "         0.02604315,  0.06153029, -0.00549118,  0.05124387, -0.01187283,\n",
       "         0.00830134,  0.03250371, -0.0806217 , -0.06579878,  0.00214647,\n",
       "        -0.01108634,  0.03003076, -0.06934963, -0.01397742,  0.01510359,\n",
       "        -0.04529585,  0.07397854,  0.02884894,  0.08759539, -0.00668036,\n",
       "        -0.00918692,  0.0372261 , -0.0635406 ,  0.00603695,  0.01414676,\n",
       "        -0.0312506 , -0.00404177, -0.0426768 , -0.03074561, -0.07313085,\n",
       "        -0.04451051,  0.05255825,  0.03420416,  0.01118189, -0.01009823,\n",
       "         0.05129909, -0.00983707, -0.05760571,  0.0276159 ,  0.05460598,\n",
       "         0.05066548, -0.04124875,  0.04984031,  0.01845946,  0.05039046,\n",
       "         0.04528014, -0.0077235 ,  0.02650618, -0.02111182, -0.0380457 ,\n",
       "         0.0723055 ,  0.07969502,  0.06251924,  0.03578471, -0.05582412,\n",
       "        -0.09921633,  0.04508456, -0.05552382, -0.00427434,  0.04087176,\n",
       "        -0.09636472,  0.09360197,  0.06978492, -0.08711676, -0.03074136,\n",
       "        -0.00845172, -0.00681338,  0.00050872, -0.03206736, -0.00401323,\n",
       "         0.01971508, -0.10929923,  0.01904182, -0.00179883, -0.043325  ,\n",
       "        -0.05108549,  0.1425468 , -0.0448329 , -0.04143491, -0.07113291,\n",
       "         0.06789093,  0.0059147 ,  0.02155279,  0.00163687,  0.02215463,\n",
       "         0.02209983,  0.05280929,  0.02139081,  0.01858367, -0.05157942,\n",
       "        -0.02445889, -0.01720547, -0.02518873,  0.03959775,  0.0031176 ,\n",
       "        -0.00963101,  0.05904796, -0.04734839,  0.01842071, -0.0322823 ,\n",
       "         0.01783356,  0.01351495,  0.0660492 ,  0.00865307, -0.02113038,\n",
       "        -0.09376216,  0.00139514,  0.05602781,  0.03328088,  0.05637897,\n",
       "         0.03327302, -0.03783674,  0.00622135,  0.01907359,  0.04932014,\n",
       "        -0.07397405, -0.02463822, -0.02217994, -0.01253325,  0.05991569,\n",
       "         0.00340379,  0.01177735,  0.05255945,  0.06611551, -0.07888906,\n",
       "         0.00926506, -0.00913282,  0.0259905 , -0.03632222, -0.11087841,\n",
       "         0.01111145,  0.0538915 ,  0.08715881, -0.01182611, -0.00365775,\n",
       "        -0.07511671, -0.028884  , -0.05902665, -0.00286112, -0.0460603 ,\n",
       "        -0.01778565, -0.09995396, -0.00551581, -0.07638706,  0.00394156,\n",
       "         0.01549986,  0.03830857,  0.00801529, -0.02963954, -0.06738417,\n",
       "         0.01845029,  0.03016236,  0.03399864,  0.04052433, -0.0124552 ,\n",
       "        -0.04700156, -0.11262079,  0.0296635 , -0.02940483, -0.1133831 ,\n",
       "        -0.05358003,  0.00051695, -0.03363107,  0.04668758,  0.01704217,\n",
       "         0.03906889,  0.03194324,  0.07908521, -0.02111892,  0.07693662,\n",
       "        -0.00450495,  0.03340598, -0.01656112, -0.06363121, -0.04775004,\n",
       "         0.06891473, -0.0179108 ,  0.04787677, -0.05907672,  0.04806989,\n",
       "         0.04467927,  0.03887483, -0.04193536, -0.0118157 , -0.0818615 ,\n",
       "         0.022035  , -0.01887305,  0.03811181,  0.0472597 ,  0.01291935,\n",
       "         0.00304552, -0.03206908, -0.06550439, -0.03085348, -0.021394  ,\n",
       "        -0.05813728, -0.11967154, -0.01386403,  0.03296025, -0.14217485,\n",
       "        -0.04839172, -0.03686256, -0.03560099, -0.02531185,  0.07223155,\n",
       "         0.00571504, -0.00490625,  0.11601347, -0.09171471, -0.01172452,\n",
       "        -0.02839778, -0.0038826 ,  0.00548403,  0.04455759,  0.01161307,\n",
       "         0.04257585,  0.02951648, -0.03496765, -0.05679274,  0.00276189,\n",
       "         0.03155481,  0.01783895,  0.08045081,  0.05061872, -0.09015922,\n",
       "         0.120477  , -0.05094496, -0.01464524,  0.0572576 , -0.01352994,\n",
       "         0.00293327, -0.02547994, -0.02780834,  0.02586655,  0.05011631,\n",
       "         0.07885587,  0.06057312,  0.02982586, -0.00694106, -0.04446713,\n",
       "        -0.04384941], dtype=float32),\n",
       " array([[0., 0., 0., ..., 0., 0., 0.],\n",
       "        [0., 0., 0., ..., 0., 0., 0.],\n",
       "        [0., 0., 0., ..., 0., 0., 0.],\n",
       "        ...,\n",
       "        [0., 0., 0., ..., 0., 0., 0.],\n",
       "        [0., 0., 0., ..., 0., 0., 0.],\n",
       "        [0., 0., 0., ..., 0., 0., 0.]], dtype=float32)]"
      ]
     },
     "execution_count": 34,
     "metadata": {},
     "output_type": "execute_result"
    }
   ],
   "source": [
    "md[0][1]"
   ]
  },
  {
   "cell_type": "code",
   "execution_count": 5,
   "metadata": {},
   "outputs": [],
   "source": [
    "\n",
    "with open('/zhome/08/b/98186/advanced-ml/autovc/results.pkl', 'rb') as pickle_file:\n",
    "    results = pickle.load(pickle_file)"
   ]
  },
  {
   "cell_type": "code",
   "execution_count": 8,
   "metadata": {},
   "outputs": [
    {
     "data": {
      "text/plain": [
       "49"
      ]
     },
     "execution_count": 8,
     "metadata": {},
     "output_type": "execute_result"
    }
   ],
   "source": [
    "len(results)"
   ]
  },
  {
   "cell_type": "code",
   "execution_count": 2,
   "metadata": {},
   "outputs": [],
   "source": [
    "with open('/work3/dgro/VCTK-Corpus-0/wav/train.pkl', 'rb') as pickle_file:\n",
    "    train = pickle.load(pickle_file)\n"
   ]
  },
  {
   "cell_type": "code",
   "execution_count": 14,
   "metadata": {},
   "outputs": [
    {
     "data": {
      "text/plain": [
       "'p001'"
      ]
     },
     "execution_count": 14,
     "metadata": {},
     "output_type": "execute_result"
    }
   ],
   "source": [
    "train[0][0]"
   ]
  },
  {
   "cell_type": "code",
   "execution_count": 18,
   "metadata": {},
   "outputs": [],
   "source": [
    "train\n",
    "\n",
    "subject_speaker_embedding = {}\n",
    "for embed in train:\n",
    "    subject_speaker_embedding[embed[0]] = embed[1]"
   ]
  },
  {
   "cell_type": "code",
   "execution_count": 17,
   "metadata": {},
   "outputs": [
    {
     "data": {
      "text/plain": [
       "(256,)"
      ]
     },
     "execution_count": 17,
     "metadata": {},
     "output_type": "execute_result"
    }
   ],
   "source": [
    "train_dict['p001'].shape"
   ]
  },
  {
   "cell_type": "code",
   "execution_count": 4,
   "metadata": {},
   "outputs": [],
   "source": [
    "speaker_info = pd.read_csv(\"speaker_info.txt\", delim_whitespace=True)"
   ]
  },
  {
   "cell_type": "code",
   "execution_count": 7,
   "metadata": {},
   "outputs": [
    {
     "data": {
      "text/html": [
       "<div>\n",
       "<style scoped>\n",
       "    .dataframe tbody tr th:only-of-type {\n",
       "        vertical-align: middle;\n",
       "    }\n",
       "\n",
       "    .dataframe tbody tr th {\n",
       "        vertical-align: top;\n",
       "    }\n",
       "\n",
       "    .dataframe thead th {\n",
       "        text-align: right;\n",
       "    }\n",
       "</style>\n",
       "<table border=\"1\" class=\"dataframe\">\n",
       "  <thead>\n",
       "    <tr style=\"text-align: right;\">\n",
       "      <th></th>\n",
       "      <th>ID</th>\n",
       "      <th>AGE</th>\n",
       "      <th>GENDER</th>\n",
       "      <th>ACCENTS</th>\n",
       "      <th>REGION</th>\n",
       "      <th>COMMENTS</th>\n",
       "    </tr>\n",
       "  </thead>\n",
       "  <tbody>\n",
       "    <tr>\n",
       "      <th>0</th>\n",
       "      <td>p001</td>\n",
       "      <td>24</td>\n",
       "      <td>F</td>\n",
       "      <td>Danish</td>\n",
       "      <td>Denmark</td>\n",
       "      <td>Ditte</td>\n",
       "    </tr>\n",
       "    <tr>\n",
       "      <th>1</th>\n",
       "      <td>p002</td>\n",
       "      <td>24</td>\n",
       "      <td>F</td>\n",
       "      <td>Danish</td>\n",
       "      <td>Denmark</td>\n",
       "      <td>Nina</td>\n",
       "    </tr>\n",
       "    <tr>\n",
       "      <th>2</th>\n",
       "      <td>p003</td>\n",
       "      <td>27</td>\n",
       "      <td>M</td>\n",
       "      <td>American</td>\n",
       "      <td>Denmark</td>\n",
       "      <td>Sebastian</td>\n",
       "    </tr>\n",
       "    <tr>\n",
       "      <th>3</th>\n",
       "      <td>p225</td>\n",
       "      <td>23</td>\n",
       "      <td>F</td>\n",
       "      <td>English</td>\n",
       "      <td>Southern_England</td>\n",
       "      <td>NaN</td>\n",
       "    </tr>\n",
       "    <tr>\n",
       "      <th>4</th>\n",
       "      <td>p226</td>\n",
       "      <td>22</td>\n",
       "      <td>M</td>\n",
       "      <td>English</td>\n",
       "      <td>Surrey</td>\n",
       "      <td>NaN</td>\n",
       "    </tr>\n",
       "    <tr>\n",
       "      <th>...</th>\n",
       "      <td>...</td>\n",
       "      <td>...</td>\n",
       "      <td>...</td>\n",
       "      <td>...</td>\n",
       "      <td>...</td>\n",
       "      <td>...</td>\n",
       "    </tr>\n",
       "    <tr>\n",
       "      <th>108</th>\n",
       "      <td>p363</td>\n",
       "      <td>22</td>\n",
       "      <td>M</td>\n",
       "      <td>Canadian</td>\n",
       "      <td>Toronto</td>\n",
       "      <td>NaN</td>\n",
       "    </tr>\n",
       "    <tr>\n",
       "      <th>109</th>\n",
       "      <td>p364</td>\n",
       "      <td>23</td>\n",
       "      <td>M</td>\n",
       "      <td>Irish</td>\n",
       "      <td>Donegal</td>\n",
       "      <td>NaN</td>\n",
       "    </tr>\n",
       "    <tr>\n",
       "      <th>110</th>\n",
       "      <td>p374</td>\n",
       "      <td>28</td>\n",
       "      <td>M</td>\n",
       "      <td>Australian</td>\n",
       "      <td>English</td>\n",
       "      <td>NaN</td>\n",
       "    </tr>\n",
       "    <tr>\n",
       "      <th>111</th>\n",
       "      <td>p376</td>\n",
       "      <td>22</td>\n",
       "      <td>M</td>\n",
       "      <td>Indian</td>\n",
       "      <td>NaN</td>\n",
       "      <td>NaN</td>\n",
       "    </tr>\n",
       "    <tr>\n",
       "      <th>112</th>\n",
       "      <td>s5</td>\n",
       "      <td>22</td>\n",
       "      <td>F</td>\n",
       "      <td>British</td>\n",
       "      <td>(new_speaker,more_data_would_be_released_for_t...</td>\n",
       "      <td>NaN</td>\n",
       "    </tr>\n",
       "  </tbody>\n",
       "</table>\n",
       "<p>113 rows × 6 columns</p>\n",
       "</div>"
      ],
      "text/plain": [
       "       ID  AGE GENDER     ACCENTS  \\\n",
       "0    p001   24      F      Danish   \n",
       "1    p002   24      F      Danish   \n",
       "2    p003   27      M    American   \n",
       "3    p225   23      F     English   \n",
       "4    p226   22      M     English   \n",
       "..    ...  ...    ...         ...   \n",
       "108  p363   22      M    Canadian   \n",
       "109  p364   23      M       Irish   \n",
       "110  p374   28      M  Australian   \n",
       "111  p376   22      M      Indian   \n",
       "112    s5   22      F     British   \n",
       "\n",
       "                                                REGION   COMMENTS  \n",
       "0                                              Denmark      Ditte  \n",
       "1                                              Denmark       Nina  \n",
       "2                                              Denmark  Sebastian  \n",
       "3                                     Southern_England        NaN  \n",
       "4                                               Surrey        NaN  \n",
       "..                                                 ...        ...  \n",
       "108                                            Toronto        NaN  \n",
       "109                                            Donegal        NaN  \n",
       "110                                            English        NaN  \n",
       "111                                                NaN        NaN  \n",
       "112  (new_speaker,more_data_would_be_released_for_t...        NaN  \n",
       "\n",
       "[113 rows x 6 columns]"
      ]
     },
     "execution_count": 7,
     "metadata": {},
     "output_type": "execute_result"
    }
   ],
   "source": [
    "speaker_info"
   ]
  },
  {
   "cell_type": "code",
   "execution_count": 9,
   "metadata": {},
   "outputs": [],
   "source": [
    "main_dir = '/work3/dgro/VCTK-Corpus-0/' "
   ]
  },
  {
   "cell_type": "code",
   "execution_count": 16,
   "metadata": {},
   "outputs": [],
   "source": [
    "subject_conversions = [(('p226','001'),('p226','001')), (('p226','003'),('p363','003'))]"
   ]
  },
  {
   "cell_type": "code",
   "execution_count": 35,
   "metadata": {},
   "outputs": [
    {
     "name": "stdout",
     "output_type": "stream",
     "text": [
      "########################################\n",
      "\n",
      "Converting from sentence no. 001 : \"Please call Stella.\"\n",
      "Uttered by the speaker:\n",
      "  ID  AGE GENDER ACCENTS REGION COMMENTS\n",
      "p226   22      M English Surrey      NaN\n",
      "\n",
      "Into sentence no. 001: \"Please call Stella.\"\n",
      "Uttered by the speaker:\n",
      "  ID  AGE GENDER ACCENTS REGION COMMENTS\n",
      "p226   22      M English Surrey      NaN\n",
      "\n",
      "\n",
      "########################################\n",
      "\n",
      "Converting from sentence no. 003 : \"Six spoons of fresh snow peas, five thick slabs of blue cheese, and maybe a snack for her brother Bob.\"\n",
      "Uttered by the speaker:\n",
      "  ID  AGE GENDER ACCENTS REGION COMMENTS\n",
      "p226   22      M English Surrey      NaN\n",
      "\n",
      "Into sentence no. 003: \"Six spoons of fresh snow peas, five thick slabs of blue cheese, and maybe a snack for her brother Bob.\"\n",
      "Uttered by the speaker:\n",
      "  ID  AGE GENDER  ACCENTS  REGION COMMENTS\n",
      "p363   22      M Canadian Toronto      NaN\n",
      "\n",
      "\n"
     ]
    }
   ],
   "source": [
    "for conversion in subject_conversions:\n",
    "    print('#'*40+'\\n')\n",
    "    with open(os.path.join(main_dir,'txt',conversion[0][0],conversion[0][0] + '_' + conversion[0][1]+'.txt',), 'r') as sentence_file:\n",
    "        sentence = \"\\\"\" + sentence_file.readline().rstrip('\\n').rstrip() + \"\\\"\"\n",
    "        print(f'Converting from sentence no. {conversion[0][1]} : {sentence}')\n",
    "        \n",
    "    print('Uttered by the speaker:')\n",
    "    print(speaker_info[speaker_info['ID']==conversion[0][0]].to_string(index=False))\n",
    "    print('')\n",
    "\n",
    "    with open(os.path.join(main_dir,'txt',conversion[1][0],conversion[1][0] + '_' + conversion[1][1]+'.txt',), 'r') as sentence_file:\n",
    "        sentence = \"\\\"\" + sentence_file.readline().rstrip('\\n').rstrip() + \"\\\"\"\n",
    "        print(f'Into sentence no. {conversion[1][1]}: {sentence}')\n",
    "\n",
    "    print('Uttered by the speaker:')\n",
    "    print(speaker_info[speaker_info['ID']==conversion[1][0]].to_string(index=False))\n",
    "    print('\\n')"
   ]
  }
 ],
 "metadata": {
  "interpreter": {
   "hash": "13c43f1058572796e5d13e4c4adb59349ce29068b5acc5b9cd77545a3e6ece26"
  },
  "kernelspec": {
   "display_name": "Python 3.9.7 ('py39': conda)",
   "language": "python",
   "name": "python3"
  },
  "language_info": {
   "codemirror_mode": {
    "name": "ipython",
    "version": 3
   },
   "file_extension": ".py",
   "mimetype": "text/x-python",
   "name": "python",
   "nbconvert_exporter": "python",
   "pygments_lexer": "ipython3",
   "version": "3.9.7"
  },
  "orig_nbformat": 4
 },
 "nbformat": 4,
 "nbformat_minor": 2
}
